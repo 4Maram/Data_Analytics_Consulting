{
 "cells": [
  {
   "cell_type": "markdown",
   "metadata": {
    "jp-MarkdownHeadingCollapsed": true,
    "tags": []
   },
   "source": [
    "# Data Insights\n",
    "Targeting high value customers based on customer demographics and attribut\n",
    "\n",
    "Sprocket Central Pty Ltd is a long-standing KPMG client whom specialises in high-quality bikes and accessible cycling accessories to riders.\n",
    "Their marketing team is looking \n",
    "\n",
    "- **to boost business by analysing their existing customer dataset to determine customer trends and behaviour.**\n",
    "\n",
    "- **to recommend which of these 1000 new customers should be targeted to drive the most value for the organisation.**\n",
    "\n",
    "--- \n",
    "Analysis activities :\n",
    "\n",
    "- understanding the data distributions\n",
    "- feature engineering\n",
    "- data transformations\n",
    "- modelling\n",
    "- results interpretation \n",
    "- reporting.\n"
   ]
  },
  {
   "cell_type": "code",
   "execution_count": 2,
   "metadata": {},
   "outputs": [
    {
     "name": "stderr",
     "output_type": "stream",
     "text": [
      "C:\\Users\\M\\anaconda3\\lib\\site-packages\\pandas\\core\\computation\\expressions.py:20: UserWarning: Pandas requires version '2.7.3' or newer of 'numexpr' (version '2.7.1' currently installed).\n",
      "  from pandas.core.computation.check import NUMEXPR_INSTALLED\n"
     ]
    }
   ],
   "source": [
    "# import Libraries \n",
    "import pandas as pd\n",
    "import numpy as np\n",
    "import matplotlib.pyplot as plt\n",
    "import seaborn as sns\n",
    "\n",
    "import warnings\n",
    "warnings.filterwarnings(\"ignore\")"
   ]
  },
  {
   "cell_type": "markdown",
   "metadata": {},
   "source": [
    "> Note:\n",
    "I already make some preperation using Excel, Ans we're here for continues preperation."
   ]
  },
  {
   "cell_type": "code",
   "execution_count": 3,
   "metadata": {},
   "outputs": [],
   "source": [
    "customerAddress_data = pd.read_csv('CustomerAddress.csv')"
   ]
  },
  {
   "cell_type": "code",
   "execution_count": 4,
   "metadata": {},
   "outputs": [],
   "source": [
    "CustomerDemographic_data= pd.read_csv('CustomerDemographic.csv')"
   ]
  },
  {
   "cell_type": "code",
   "execution_count": 5,
   "metadata": {},
   "outputs": [],
   "source": [
    "Transactions_data= pd.read_csv('Transactions.csv')"
   ]
  },
  {
   "cell_type": "code",
   "execution_count": 6,
   "metadata": {},
   "outputs": [
    {
     "data": {
      "text/plain": [
       "transaction_id               int64\n",
       "product_id                   int64\n",
       "customer_id                  int64\n",
       "transaction_date            object\n",
       "online_order                object\n",
       "order_status                object\n",
       "brand                       object\n",
       "product_line                object\n",
       "product_class               object\n",
       "product_size                object\n",
       "list_price                 float64\n",
       "standard_cost              float64\n",
       "product_first_sold_date    float64\n",
       "dtype: object"
      ]
     },
     "execution_count": 6,
     "metadata": {},
     "output_type": "execute_result"
    }
   ],
   "source": [
    "Transactions_data.dtypes"
   ]
  },
  {
   "cell_type": "markdown",
   "metadata": {},
   "source": [
    "- - - "
   ]
  },
  {
   "cell_type": "code",
   "execution_count": 7,
   "metadata": {},
   "outputs": [],
   "source": [
    "merged_Data = pd.merge(CustomerDemographic_data , customerAddress_data,  on='customer_id')"
   ]
  },
  {
   "cell_type": "code",
   "execution_count": 8,
   "metadata": {},
   "outputs": [],
   "source": [
    "df = pd.merge(Transactions_data , merged_Data ,on='customer_id' )"
   ]
  },
  {
   "cell_type": "code",
   "execution_count": 9,
   "metadata": {},
   "outputs": [
    {
     "name": "stdout",
     "output_type": "stream",
     "text": [
      "<class 'pandas.core.frame.DataFrame'>\n",
      "RangeIndex: 19513 entries, 0 to 19512\n",
      "Data columns (total 32 columns):\n",
      " #   Column                               Non-Null Count  Dtype  \n",
      "---  ------                               --------------  -----  \n",
      " 0   transaction_id                       19513 non-null  int64  \n",
      " 1   product_id                           19513 non-null  int64  \n",
      " 2   customer_id                          19513 non-null  int64  \n",
      " 3   transaction_date                     19513 non-null  object \n",
      " 4   online_order                         19162 non-null  object \n",
      " 5   order_status                         19513 non-null  object \n",
      " 6   brand                                19327 non-null  object \n",
      " 7   product_line                         19327 non-null  object \n",
      " 8   product_class                        19327 non-null  object \n",
      " 9   product_size                         19327 non-null  object \n",
      " 10  list_price                           19513 non-null  float64\n",
      " 11  standard_cost                        19327 non-null  float64\n",
      " 12  product_first_sold_date              19327 non-null  float64\n",
      " 13  first_name                           19513 non-null  object \n",
      " 14  last_name                            18887 non-null  object \n",
      " 15  gender                               19513 non-null  object \n",
      " 16  past_3_years_bike_related_purchases  19513 non-null  int64  \n",
      " 17  DOB                                  19513 non-null  object \n",
      " 18  Age                                  19513 non-null  int64  \n",
      " 19  Age_Bin                              19513 non-null  object \n",
      " 20  Age_Group                            19513 non-null  object \n",
      " 21  job_title                            17173 non-null  object \n",
      " 22  job_industry_category                16291 non-null  object \n",
      " 23  wealth_segment                       19513 non-null  object \n",
      " 24  deceased_indicator                   19513 non-null  object \n",
      " 25  owns_car                             19513 non-null  object \n",
      " 26  tenure                               19513 non-null  int64  \n",
      " 27  address                              19513 non-null  object \n",
      " 28  postcode                             19513 non-null  int64  \n",
      " 29  state                                19513 non-null  object \n",
      " 30  country                              19513 non-null  object \n",
      " 31  property_valuation                   19513 non-null  int64  \n",
      "dtypes: float64(3), int64(8), object(21)\n",
      "memory usage: 4.8+ MB\n"
     ]
    }
   ],
   "source": [
    "df.info()"
   ]
  },
  {
   "cell_type": "code",
   "execution_count": 10,
   "metadata": {},
   "outputs": [
    {
     "data": {
      "text/plain": [
       "(19513, 32)"
      ]
     },
     "execution_count": 10,
     "metadata": {},
     "output_type": "execute_result"
    }
   ],
   "source": [
    "df.shape"
   ]
  },
  {
   "cell_type": "code",
   "execution_count": 11,
   "metadata": {},
   "outputs": [
    {
     "data": {
      "text/html": [
       "<div>\n",
       "<style scoped>\n",
       "    .dataframe tbody tr th:only-of-type {\n",
       "        vertical-align: middle;\n",
       "    }\n",
       "\n",
       "    .dataframe tbody tr th {\n",
       "        vertical-align: top;\n",
       "    }\n",
       "\n",
       "    .dataframe thead th {\n",
       "        text-align: right;\n",
       "    }\n",
       "</style>\n",
       "<table border=\"1\" class=\"dataframe\">\n",
       "  <thead>\n",
       "    <tr style=\"text-align: right;\">\n",
       "      <th></th>\n",
       "      <th>transaction_id</th>\n",
       "      <th>product_id</th>\n",
       "      <th>customer_id</th>\n",
       "      <th>list_price</th>\n",
       "      <th>standard_cost</th>\n",
       "      <th>product_first_sold_date</th>\n",
       "      <th>past_3_years_bike_related_purchases</th>\n",
       "      <th>Age</th>\n",
       "      <th>tenure</th>\n",
       "      <th>postcode</th>\n",
       "      <th>property_valuation</th>\n",
       "    </tr>\n",
       "  </thead>\n",
       "  <tbody>\n",
       "    <tr>\n",
       "      <th>count</th>\n",
       "      <td>19513.000000</td>\n",
       "      <td>19513.000000</td>\n",
       "      <td>19513.000000</td>\n",
       "      <td>19513.000000</td>\n",
       "      <td>19327.000000</td>\n",
       "      <td>19327.000000</td>\n",
       "      <td>19513.000000</td>\n",
       "      <td>19513.000000</td>\n",
       "      <td>19513.000000</td>\n",
       "      <td>19513.000000</td>\n",
       "      <td>19513.000000</td>\n",
       "    </tr>\n",
       "    <tr>\n",
       "      <th>mean</th>\n",
       "      <td>9993.896479</td>\n",
       "      <td>45.354328</td>\n",
       "      <td>1739.902424</td>\n",
       "      <td>1106.277051</td>\n",
       "      <td>555.749864</td>\n",
       "      <td>38202.130025</td>\n",
       "      <td>48.909957</td>\n",
       "      <td>45.553785</td>\n",
       "      <td>10.677651</td>\n",
       "      <td>2987.327371</td>\n",
       "      <td>7.516732</td>\n",
       "    </tr>\n",
       "    <tr>\n",
       "      <th>std</th>\n",
       "      <td>5770.884174</td>\n",
       "      <td>30.737403</td>\n",
       "      <td>1009.622824</td>\n",
       "      <td>582.921922</td>\n",
       "      <td>405.716005</td>\n",
       "      <td>2873.717860</td>\n",
       "      <td>28.653549</td>\n",
       "      <td>12.603361</td>\n",
       "      <td>5.672409</td>\n",
       "      <td>852.242049</td>\n",
       "      <td>2.826513</td>\n",
       "    </tr>\n",
       "    <tr>\n",
       "      <th>min</th>\n",
       "      <td>1.000000</td>\n",
       "      <td>0.000000</td>\n",
       "      <td>1.000000</td>\n",
       "      <td>12.010000</td>\n",
       "      <td>7.210000</td>\n",
       "      <td>33259.000000</td>\n",
       "      <td>0.000000</td>\n",
       "      <td>21.000000</td>\n",
       "      <td>1.000000</td>\n",
       "      <td>2000.000000</td>\n",
       "      <td>1.000000</td>\n",
       "    </tr>\n",
       "    <tr>\n",
       "      <th>25%</th>\n",
       "      <td>5004.000000</td>\n",
       "      <td>18.000000</td>\n",
       "      <td>860.000000</td>\n",
       "      <td>575.270000</td>\n",
       "      <td>215.140000</td>\n",
       "      <td>35667.000000</td>\n",
       "      <td>24.000000</td>\n",
       "      <td>36.000000</td>\n",
       "      <td>6.000000</td>\n",
       "      <td>2200.000000</td>\n",
       "      <td>6.000000</td>\n",
       "    </tr>\n",
       "    <tr>\n",
       "      <th>50%</th>\n",
       "      <td>9987.000000</td>\n",
       "      <td>44.000000</td>\n",
       "      <td>1736.000000</td>\n",
       "      <td>1163.890000</td>\n",
       "      <td>507.580000</td>\n",
       "      <td>38216.000000</td>\n",
       "      <td>48.000000</td>\n",
       "      <td>46.000000</td>\n",
       "      <td>11.000000</td>\n",
       "      <td>2767.000000</td>\n",
       "      <td>8.000000</td>\n",
       "    </tr>\n",
       "    <tr>\n",
       "      <th>75%</th>\n",
       "      <td>14985.000000</td>\n",
       "      <td>72.000000</td>\n",
       "      <td>2613.000000</td>\n",
       "      <td>1635.300000</td>\n",
       "      <td>795.100000</td>\n",
       "      <td>40672.000000</td>\n",
       "      <td>73.000000</td>\n",
       "      <td>55.000000</td>\n",
       "      <td>15.000000</td>\n",
       "      <td>3752.000000</td>\n",
       "      <td>10.000000</td>\n",
       "    </tr>\n",
       "    <tr>\n",
       "      <th>max</th>\n",
       "      <td>20000.000000</td>\n",
       "      <td>100.000000</td>\n",
       "      <td>3500.000000</td>\n",
       "      <td>2091.470000</td>\n",
       "      <td>1759.850000</td>\n",
       "      <td>42710.000000</td>\n",
       "      <td>99.000000</td>\n",
       "      <td>91.000000</td>\n",
       "      <td>22.000000</td>\n",
       "      <td>4883.000000</td>\n",
       "      <td>12.000000</td>\n",
       "    </tr>\n",
       "  </tbody>\n",
       "</table>\n",
       "</div>"
      ],
      "text/plain": [
       "       transaction_id    product_id   customer_id    list_price   \n",
       "count    19513.000000  19513.000000  19513.000000  19513.000000  \\\n",
       "mean      9993.896479     45.354328   1739.902424   1106.277051   \n",
       "std       5770.884174     30.737403   1009.622824    582.921922   \n",
       "min          1.000000      0.000000      1.000000     12.010000   \n",
       "25%       5004.000000     18.000000    860.000000    575.270000   \n",
       "50%       9987.000000     44.000000   1736.000000   1163.890000   \n",
       "75%      14985.000000     72.000000   2613.000000   1635.300000   \n",
       "max      20000.000000    100.000000   3500.000000   2091.470000   \n",
       "\n",
       "       standard_cost  product_first_sold_date   \n",
       "count   19327.000000             19327.000000  \\\n",
       "mean      555.749864             38202.130025   \n",
       "std       405.716005              2873.717860   \n",
       "min         7.210000             33259.000000   \n",
       "25%       215.140000             35667.000000   \n",
       "50%       507.580000             38216.000000   \n",
       "75%       795.100000             40672.000000   \n",
       "max      1759.850000             42710.000000   \n",
       "\n",
       "       past_3_years_bike_related_purchases           Age        tenure   \n",
       "count                         19513.000000  19513.000000  19513.000000  \\\n",
       "mean                             48.909957     45.553785     10.677651   \n",
       "std                              28.653549     12.603361      5.672409   \n",
       "min                               0.000000     21.000000      1.000000   \n",
       "25%                              24.000000     36.000000      6.000000   \n",
       "50%                              48.000000     46.000000     11.000000   \n",
       "75%                              73.000000     55.000000     15.000000   \n",
       "max                              99.000000     91.000000     22.000000   \n",
       "\n",
       "           postcode  property_valuation  \n",
       "count  19513.000000        19513.000000  \n",
       "mean    2987.327371            7.516732  \n",
       "std      852.242049            2.826513  \n",
       "min     2000.000000            1.000000  \n",
       "25%     2200.000000            6.000000  \n",
       "50%     2767.000000            8.000000  \n",
       "75%     3752.000000           10.000000  \n",
       "max     4883.000000           12.000000  "
      ]
     },
     "execution_count": 11,
     "metadata": {},
     "output_type": "execute_result"
    }
   ],
   "source": [
    "# Summarize numercial variables\n",
    "df.describe()"
   ]
  },
  {
   "cell_type": "markdown",
   "metadata": {},
   "source": [
    "#### Data preperation\n",
    "This contains the following:\n",
    "\n",
    "- Missing value handling\n",
    "- Inconsistent data handling\n",
    "- Duplicate data handling"
   ]
  },
  {
   "cell_type": "code",
   "execution_count": 12,
   "metadata": {},
   "outputs": [
    {
     "data": {
      "text/plain": [
       "transaction_id                            0\n",
       "product_id                                0\n",
       "customer_id                               0\n",
       "transaction_date                          0\n",
       "online_order                            351\n",
       "order_status                              0\n",
       "brand                                   186\n",
       "product_line                            186\n",
       "product_class                           186\n",
       "product_size                            186\n",
       "list_price                                0\n",
       "standard_cost                           186\n",
       "product_first_sold_date                 186\n",
       "first_name                                0\n",
       "last_name                               626\n",
       "gender                                    0\n",
       "past_3_years_bike_related_purchases       0\n",
       "DOB                                       0\n",
       "Age                                       0\n",
       "Age_Bin                                   0\n",
       "Age_Group                                 0\n",
       "job_title                              2340\n",
       "job_industry_category                  3222\n",
       "wealth_segment                            0\n",
       "deceased_indicator                        0\n",
       "owns_car                                  0\n",
       "tenure                                    0\n",
       "address                                   0\n",
       "postcode                                  0\n",
       "state                                     0\n",
       "country                                   0\n",
       "property_valuation                        0\n",
       "dtype: int64"
      ]
     },
     "execution_count": 12,
     "metadata": {},
     "output_type": "execute_result"
    }
   ],
   "source": [
    "# check for null values \n",
    "df.isnull().sum()"
   ]
  },
  {
   "cell_type": "code",
   "execution_count": 13,
   "metadata": {},
   "outputs": [],
   "source": [
    "df['tenure'].fillna(df['tenure'].mean(), inplace= True)"
   ]
  },
  {
   "cell_type": "code",
   "execution_count": 14,
   "metadata": {},
   "outputs": [],
   "source": [
    "# The ffill() method replaces the NULL values with the value from the previous row (or previous column, if the axis parameter is set to 'columns' )\n",
    "df['last_name'].fillna(method='ffill', inplace = True)"
   ]
  },
  {
   "cell_type": "code",
   "execution_count": 15,
   "metadata": {},
   "outputs": [],
   "source": [
    "df['DOB'].fillna(method='ffill', inplace = True)"
   ]
  },
  {
   "cell_type": "code",
   "execution_count": 16,
   "metadata": {},
   "outputs": [],
   "source": [
    "df['standard_cost'].fillna(df['standard_cost'].mean(), inplace = True)"
   ]
  },
  {
   "cell_type": "code",
   "execution_count": 17,
   "metadata": {},
   "outputs": [],
   "source": [
    "df['brand'].fillna(method='ffill', inplace = True)"
   ]
  },
  {
   "cell_type": "code",
   "execution_count": 18,
   "metadata": {},
   "outputs": [],
   "source": [
    "df['product_line'].fillna(method='ffill', inplace = True)"
   ]
  },
  {
   "cell_type": "code",
   "execution_count": 19,
   "metadata": {},
   "outputs": [],
   "source": [
    "df['online_order'].fillna(method='ffill', inplace = True)"
   ]
  },
  {
   "cell_type": "code",
   "execution_count": 20,
   "metadata": {},
   "outputs": [],
   "source": [
    "df['product_class'].fillna(method='ffill', inplace = True)"
   ]
  },
  {
   "cell_type": "code",
   "execution_count": 21,
   "metadata": {},
   "outputs": [],
   "source": [
    "df['product_first_sold_date'].fillna(method='ffill', inplace = True)"
   ]
  },
  {
   "cell_type": "code",
   "execution_count": 22,
   "metadata": {},
   "outputs": [],
   "source": [
    "df['product_size'].fillna(method='ffill', inplace = True)"
   ]
  },
  {
   "cell_type": "code",
   "execution_count": 23,
   "metadata": {},
   "outputs": [],
   "source": [
    "df['job_title'].fillna(method='ffill', inplace = True)"
   ]
  },
  {
   "cell_type": "code",
   "execution_count": 24,
   "metadata": {},
   "outputs": [],
   "source": [
    "df['job_industry_category'].fillna(method='ffill', inplace = True)"
   ]
  },
  {
   "cell_type": "code",
   "execution_count": 25,
   "metadata": {},
   "outputs": [
    {
     "data": {
      "text/plain": [
       "0"
      ]
     },
     "execution_count": 25,
     "metadata": {},
     "output_type": "execute_result"
    }
   ],
   "source": [
    "# Check for duplicate value\n",
    "sum(df.duplicated())"
   ]
  },
  {
   "cell_type": "code",
   "execution_count": 26,
   "metadata": {},
   "outputs": [],
   "source": [
    "data = pd.DataFrame(df)"
   ]
  },
  {
   "cell_type": "code",
   "execution_count": 27,
   "metadata": {},
   "outputs": [
    {
     "name": "stdout",
     "output_type": "stream",
     "text": [
      "<class 'pandas.core.frame.DataFrame'>\n",
      "RangeIndex: 19513 entries, 0 to 19512\n",
      "Data columns (total 32 columns):\n",
      " #   Column                               Non-Null Count  Dtype  \n",
      "---  ------                               --------------  -----  \n",
      " 0   transaction_id                       19513 non-null  int64  \n",
      " 1   product_id                           19513 non-null  int64  \n",
      " 2   customer_id                          19513 non-null  int64  \n",
      " 3   transaction_date                     19513 non-null  object \n",
      " 4   online_order                         19513 non-null  bool   \n",
      " 5   order_status                         19513 non-null  object \n",
      " 6   brand                                19513 non-null  object \n",
      " 7   product_line                         19513 non-null  object \n",
      " 8   product_class                        19513 non-null  object \n",
      " 9   product_size                         19513 non-null  object \n",
      " 10  list_price                           19513 non-null  float64\n",
      " 11  standard_cost                        19513 non-null  float64\n",
      " 12  product_first_sold_date              19513 non-null  float64\n",
      " 13  first_name                           19513 non-null  object \n",
      " 14  last_name                            19513 non-null  object \n",
      " 15  gender                               19513 non-null  object \n",
      " 16  past_3_years_bike_related_purchases  19513 non-null  int64  \n",
      " 17  DOB                                  19513 non-null  object \n",
      " 18  Age                                  19513 non-null  int64  \n",
      " 19  Age_Bin                              19513 non-null  object \n",
      " 20  Age_Group                            19513 non-null  object \n",
      " 21  job_title                            19513 non-null  object \n",
      " 22  job_industry_category                19513 non-null  object \n",
      " 23  wealth_segment                       19513 non-null  object \n",
      " 24  deceased_indicator                   19513 non-null  object \n",
      " 25  owns_car                             19513 non-null  object \n",
      " 26  tenure                               19513 non-null  int64  \n",
      " 27  address                              19513 non-null  object \n",
      " 28  postcode                             19513 non-null  int64  \n",
      " 29  state                                19513 non-null  object \n",
      " 30  country                              19513 non-null  object \n",
      " 31  property_valuation                   19513 non-null  int64  \n",
      "dtypes: bool(1), float64(3), int64(8), object(20)\n",
      "memory usage: 4.6+ MB\n"
     ]
    }
   ],
   "source": [
    "data.info()"
   ]
  },
  {
   "cell_type": "code",
   "execution_count": 28,
   "metadata": {},
   "outputs": [],
   "source": [
    "# save it to csv, that I can make visualization using Tableau\n",
    "data.to_csv('Dataset.csv', index=False)"
   ]
  },
  {
   "cell_type": "code",
   "execution_count": 29,
   "metadata": {},
   "outputs": [],
   "source": [
    "NewCustomerList= pd.read_csv('NewCustomerList.csv')"
   ]
  },
  {
   "cell_type": "code",
   "execution_count": 30,
   "metadata": {},
   "outputs": [
    {
     "name": "stdout",
     "output_type": "stream",
     "text": [
      "<class 'pandas.core.frame.DataFrame'>\n",
      "RangeIndex: 983 entries, 0 to 982\n",
      "Data columns (total 21 columns):\n",
      " #   Column                               Non-Null Count  Dtype  \n",
      "---  ------                               --------------  -----  \n",
      " 0   Id                                   983 non-null    int64  \n",
      " 1   first_name                           983 non-null    object \n",
      " 2   last_name                            954 non-null    object \n",
      " 3   gender                               983 non-null    object \n",
      " 4   past_3_years_bike_related_purchases  983 non-null    int64  \n",
      " 5   DOB                                  983 non-null    object \n",
      " 6   Age                                  983 non-null    int64  \n",
      " 7   age_group                            983 non-null    object \n",
      " 8   job_title                            878 non-null    object \n",
      " 9   job_industry_category                818 non-null    object \n",
      " 10  wealth_segment                       983 non-null    object \n",
      " 11  deceased_indicator                   983 non-null    object \n",
      " 12  owns_car                             983 non-null    object \n",
      " 13  tenure                               983 non-null    int64  \n",
      " 14  address                              983 non-null    object \n",
      " 15  postcode                             983 non-null    int64  \n",
      " 16  state                                983 non-null    object \n",
      " 17  country                              983 non-null    object \n",
      " 18  property_valuation                   983 non-null    int64  \n",
      " 19  Rank                                 983 non-null    int64  \n",
      " 20  Value                                983 non-null    float64\n",
      "dtypes: float64(1), int64(7), object(13)\n",
      "memory usage: 161.4+ KB\n"
     ]
    }
   ],
   "source": [
    "NewCustomerList.info()"
   ]
  },
  {
   "cell_type": "code",
   "execution_count": 116,
   "metadata": {},
   "outputs": [],
   "source": [
    "NewCustomerList['job_industry_category'].fillna(method='ffill', inplace = True)"
   ]
  },
  {
   "cell_type": "markdown",
   "metadata": {},
   "source": [
    "## Visualizing the count of customers by gender"
   ]
  },
  {
   "cell_type": "code",
   "execution_count": 31,
   "metadata": {},
   "outputs": [
    {
     "data": {
      "image/png": "[encoded data removed]",
      "text/plain": [
       "<Figure size 576x432 with 1 Axes>"
      ]
     },
     "metadata": {
      "needs_background": "light"
     },
     "output_type": "display_data"
    }
   ],
   "source": [
    "gender_counts = data['gender'].value_counts()\n",
    "plt.figure(figsize=(8, 6))\n",
    "sns.barplot(x=gender_counts.index, y=gender_counts.values, color = 'grey')\n",
    "plt.title('Count of Customers by Gender')\n",
    "plt.xlabel('Gender')\n",
    "plt.ylabel('Count')\n",
    "plt.show()"
   ]
  },
  {
   "cell_type": "markdown",
   "metadata": {},
   "source": [
    "> We can see the sex of customers are almost equally, they both like to puchase a bike with the same level."
   ]
  },
  {
   "cell_type": "markdown",
   "metadata": {},
   "source": [
    "## Visualizing the Number of Customers by Wealth Segment and Car Ownership"
   ]
  },
  {
   "cell_type": "code",
   "execution_count": 32,
   "metadata": {},
   "outputs": [
    {
     "data": {
      "image/png": "[encoded data removed]",
      "text/plain": [
       "<Figure size 720x432 with 1 Axes>"
      ]
     },
     "metadata": {
      "needs_background": "light"
     },
     "output_type": "display_data"
    }
   ],
   "source": [
    "grouped_data = data.groupby(['wealth_segment', 'owns_car']).size().unstack(fill_value=0)\n",
    "\n",
    "# Create a grouped bar chart\n",
    "fig, ax = plt.subplots(figsize=(10, 6))\n",
    "\n",
    "bar_width = 0.35\n",
    "index = range(len(grouped_data))\n",
    "\n",
    "bars1 = ax.bar(index, grouped_data['Yes'], bar_width, label='Owns Car', color='grey')\n",
    "bars2 = ax.bar(index, grouped_data['No'], bar_width, label='Does Not Own Car', color='black', bottom=grouped_data['Yes'])\n",
    "\n",
    "ax.set_xlabel('Wealth Segment')\n",
    "ax.set_ylabel('Number of Customers')\n",
    "ax.set_title('Number of Customers by Wealth Segment and Car Ownership')\n",
    "ax.set_xticks(index)\n",
    "ax.set_xticklabels(grouped_data.index)\n",
    "plt.xticks(rotation=45)\n",
    "ax.legend()\n",
    "\n",
    "plt.show()"
   ]
  },
  {
   "cell_type": "code",
   "execution_count": 33,
   "metadata": {},
   "outputs": [
    {
     "data": {
      "text/html": [
       "<div>\n",
       "<style scoped>\n",
       "    .dataframe tbody tr th:only-of-type {\n",
       "        vertical-align: middle;\n",
       "    }\n",
       "\n",
       "    .dataframe tbody tr th {\n",
       "        vertical-align: top;\n",
       "    }\n",
       "\n",
       "    .dataframe thead th {\n",
       "        text-align: right;\n",
       "    }\n",
       "</style>\n",
       "<table border=\"1\" class=\"dataframe\">\n",
       "  <thead>\n",
       "    <tr style=\"text-align: right;\">\n",
       "      <th>owns_car</th>\n",
       "      <th>No</th>\n",
       "      <th>Yes</th>\n",
       "    </tr>\n",
       "    <tr>\n",
       "      <th>wealth_segment</th>\n",
       "      <th></th>\n",
       "      <th></th>\n",
       "    </tr>\n",
       "  </thead>\n",
       "  <tbody>\n",
       "    <tr>\n",
       "      <th>Affluent Customer</th>\n",
       "      <td>2255</td>\n",
       "      <td>2510</td>\n",
       "    </tr>\n",
       "    <tr>\n",
       "      <th>High Net Worth</th>\n",
       "      <td>2460</td>\n",
       "      <td>2505</td>\n",
       "    </tr>\n",
       "    <tr>\n",
       "      <th>Mass Customer</th>\n",
       "      <td>5012</td>\n",
       "      <td>4771</td>\n",
       "    </tr>\n",
       "  </tbody>\n",
       "</table>\n",
       "</div>"
      ],
      "text/plain": [
       "owns_car             No   Yes\n",
       "wealth_segment               \n",
       "Affluent Customer  2255  2510\n",
       "High Net Worth     2460  2505\n",
       "Mass Customer      5012  4771"
      ]
     },
     "execution_count": 33,
     "metadata": {},
     "output_type": "execute_result"
    }
   ],
   "source": [
    "grouped_data"
   ]
  },
  {
   "cell_type": "markdown",
   "metadata": {},
   "source": [
    "> The mass customer type are a lot purchasing a bikes, whatever if they own a car or not."
   ]
  },
  {
   "cell_type": "markdown",
   "metadata": {},
   "source": [
    "## Does the ownership of the cars affecting to customers?"
   ]
  },
  {
   "cell_type": "code",
   "execution_count": 34,
   "metadata": {},
   "outputs": [
    {
     "data": {
      "text/plain": [
       "<AxesSubplot:xlabel='order_status', ylabel='customer_id'>"
      ]
     },
     "execution_count": 34,
     "metadata": {},
     "output_type": "execute_result"
    },
    {
     "data": {
      "image/png": "[encoded data removed]",
      "text/plain": [
       "<Figure size 432x288 with 1 Axes>"
      ]
     },
     "metadata": {
      "needs_background": "light"
     },
     "output_type": "display_data"
    }
   ],
   "source": [
    "# Old Customer\n",
    "sns.barplot(x='order_status',y='customer_id',data=data, hue='owns_car', color = 'black')"
   ]
  },
  {
   "cell_type": "markdown",
   "metadata": {},
   "source": [
    "> We can notice, that the car ownership by customers affecting the purchases, since we can see at the chart *cancelled online oreders* by people who owns a car."
   ]
  },
  {
   "cell_type": "markdown",
   "metadata": {},
   "source": [
    "## What the most preferred brand to customers?"
   ]
  },
  {
   "cell_type": "code",
   "execution_count": 35,
   "metadata": {},
   "outputs": [
    {
     "data": {
      "image/png": "[encoded data removed]",
      "text/plain": [
       "<Figure size 576x576 with 1 Axes>"
      ]
     },
     "metadata": {},
     "output_type": "display_data"
    }
   ],
   "source": [
    "brand_customers = data['brand'].value_counts()\n",
    "\n",
    "colors = ['#808080', '#E6E6FA', '#C0C0C0', '#929591']\n",
    "plt.figure(figsize=(8, 8))\n",
    "plt.pie(brand_customers, labels=brand_customers.index, autopct='%1.1f%%', startangle=140,wedgeprops = { 'linewidth' : 3, 'edgecolor' : 'white' },colors=colors)\n",
    "plt.title('Distribution of Customers by Brand')\n",
    "plt.axis('equal')\n",
    "plt.show()"
   ]
  },
  {
   "cell_type": "markdown",
   "metadata": {},
   "source": [
    "> I noticed that all brands have the same popularity, with a small number difference of Solex."
   ]
  },
  {
   "cell_type": "markdown",
   "metadata": {},
   "source": [
    "## What is the preferred product class?"
   ]
  },
  {
   "cell_type": "code",
   "execution_count": 360,
   "metadata": {},
   "outputs": [
    {
     "data": {
      "text/plain": [
       "<AxesSubplot:xlabel='product_class', ylabel='customer_id'>"
      ]
     },
     "execution_count": 360,
     "metadata": {},
     "output_type": "execute_result"
    },
    {
     "data": {
      "image/png": "[encoded data removed]",
      "text/plain": [
       "<Figure size 432x288 with 1 Axes>"
      ]
     },
     "metadata": {
      "needs_background": "light"
     },
     "output_type": "display_data"
    }
   ],
   "source": [
    "sns.barplot(x='product_class',y='customer_id',data=data, hue='gender', color = 'black')"
   ]
  },
  {
   "cell_type": "markdown",
   "metadata": {},
   "source": [
    "> They are almost have the same purchases"
   ]
  },
  {
   "cell_type": "markdown",
   "metadata": {},
   "source": [
    "## What is the location distribution by wealth segments?"
   ]
  },
  {
   "cell_type": "code",
   "execution_count": 368,
   "metadata": {},
   "outputs": [
    {
     "data": {
      "text/plain": [
       "<AxesSubplot:ylabel='state'>"
      ]
     },
     "execution_count": 368,
     "metadata": {},
     "output_type": "execute_result"
    },
    {
     "data": {
      "image/png": "[encoded data removed]",
      "text/plain": [
       "<Figure size 432x288 with 1 Axes>"
      ]
     },
     "metadata": {
      "needs_background": "light"
     },
     "output_type": "display_data"
    }
   ],
   "source": [
    "# old customer\n",
    "sns.barplot(x=np.arange(0,19513),y='state',data=data, hue='wealth_segment', color = 'Black')"
   ]
  },
  {
   "cell_type": "markdown",
   "metadata": {},
   "source": [
    "## Job Industry Category Vs. Total Purchases for New Customer"
   ]
  },
  {
   "cell_type": "code",
   "execution_count": 90,
   "metadata": {},
   "outputs": [
    {
     "data": {
      "image/png": "[encoded data removed]",
      "text/plain": [
       "<Figure size 1152x432 with 2 Axes>"
      ]
     },
     "metadata": {
      "needs_background": "light"
     },
     "output_type": "display_data"
    }
   ],
   "source": [
    "fig, axs = plt.subplots(1, 2, figsize=(16, 6))\n",
    "industry = NewCustomerList['job_industry_category'].value_counts()\n",
    "axs[0].bar(industry.index, industry.values,color='Grey')\n",
    "axs[0].set_title('Job Industry Category Vs. Total Purchases for New Customer')\n",
    "axs[0].set_xlabel('Job Industry Category')\n",
    "axs[0].set_ylabel('Total Purchases')\n",
    "\n",
    "industry0 = data['job_industry_category'].value_counts()\n",
    "axs[1].bar(industry0.index, industry0.values,color='Grey')\n",
    "axs[1].set_title('Job Industry Category Vs. Total Purchases For Old Customer')\n",
    "axs[1].set_xlabel('Job Industry Category')\n",
    "axs[1].set_ylabel('Total Purchases')\n",
    "plt.setp(axs[0].get_xticklabels() + axs[1].get_xticklabels(), rotation=30, ha='right')\n",
    "plt.tight_layout()\n",
    "plt.show()"
   ]
  },
  {
   "cell_type": "markdown",
   "metadata": {},
   "source": [
    "## Location distribution by wealth segments "
   ]
  },
  {
   "cell_type": "code",
   "execution_count": 45,
   "metadata": {},
   "outputs": [
    {
     "data": {
      "text/plain": [
       "<AxesSubplot:ylabel='state'>"
      ]
     },
     "execution_count": 45,
     "metadata": {},
     "output_type": "execute_result"
    },
    {
     "data": {
      "image/png": "[encoded data removed]",
      "text/plain": [
       "<Figure size 432x288 with 1 Axes>"
      ]
     },
     "metadata": {
      "needs_background": "light"
     },
     "output_type": "display_data"
    }
   ],
   "source": [
    "# New customer\n",
    "sns.barplot(y='state',x=np.arange(0,983),data=NewCustomerList, hue='wealth_segment', color = 'black')"
   ]
  },
  {
   "cell_type": "markdown",
   "metadata": {},
   "source": [
    "> For the New customers, we can see the wealth segments are high in New South Wales and almost in Victoria."
   ]
  },
  {
   "cell_type": "markdown",
   "metadata": {},
   "source": [
    "## Distribution of New Customer Vs. Old Customer by Gender"
   ]
  },
  {
   "cell_type": "code",
   "execution_count": 92,
   "metadata": {},
   "outputs": [
    {
     "data": {
      "image/png": "[encoded data removed]",
      "text/plain": [
       "<Figure size 1152x432 with 2 Axes>"
      ]
     },
     "metadata": {
      "needs_background": "light"
     },
     "output_type": "display_data"
    }
   ],
   "source": [
    "# New Customer Vs. Old Customer by Gender\n",
    "\n",
    "fig, axs = plt.subplots(1, 2, figsize=(16, 6))\n",
    "gender = data['gender'].value_counts()\n",
    "# Plot the Total Purchases by Gender in the Last Three Years\n",
    "axs[0].bar(gender.index, gender.values,color='Grey')\n",
    "axs[0].set_title('Total Purchases by Gender in the Last Three Years')\n",
    "axs[0].set_xlabel('Gender')\n",
    "axs[0].set_ylabel('Total Purchases')\n",
    "\n",
    "gender_list = NewCustomerList['gender'].value_counts()\n",
    "axs[1].bar(gender_list.index, gender_list.values,color='Grey')\n",
    "axs[1].set_title('Total Purchases by Gender in the Last Three Years For New Customers')\n",
    "axs[1].set_xlabel('Gender')\n",
    "axs[1].set_ylabel('Total Purchases')\n",
    "\n",
    "plt.tight_layout()\n",
    "plt.show()"
   ]
  },
  {
   "cell_type": "code",
   "execution_count": 93,
   "metadata": {},
   "outputs": [
    {
     "data": {
      "text/plain": [
       "gender\n",
       "Female    9997\n",
       "Male      9516\n",
       "Name: count, dtype: int64"
      ]
     },
     "execution_count": 93,
     "metadata": {},
     "output_type": "execute_result"
    }
   ],
   "source": [
    "gender"
   ]
  },
  {
   "cell_type": "markdown",
   "metadata": {},
   "source": [
    "> We can see, the number of female are high in both customers, new and old."
   ]
  },
  {
   "cell_type": "markdown",
   "metadata": {},
   "source": [
    "## New Customer Vs. Old Customer Age Group"
   ]
  },
  {
   "cell_type": "code",
   "execution_count": 47,
   "metadata": {},
   "outputs": [
    {
     "data": {
      "image/png": "[encoded data removed]",
      "text/plain": [
       "<Figure size 1152x432 with 2 Axes>"
      ]
     },
     "metadata": {
      "needs_background": "light"
     },
     "output_type": "display_data"
    }
   ],
   "source": [
    "fig, axs = plt.subplots(1, 2, figsize=(16, 6))\n",
    "age = data['Age_Group'].value_counts()\n",
    "axs[0].bar(age.index, age.values, color= 'black')\n",
    "axs[0].set_title('Age group of old customers')\n",
    "axs[0].set_xlabel('Age Group')\n",
    "axs[0].set_ylabel('Total Customers')\n",
    "\n",
    "age2 = NewCustomerList['age_group'].value_counts()\n",
    "axs[1].bar(age2.index, age2.values, color= 'black')\n",
    "axs[1].set_title('Age group of new customers')\n",
    "axs[1].set_xlabel('Age Group')\n",
    "axs[1].set_ylabel('Total Customers')\n",
    "plt.tight_layout()\n",
    "plt.show()"
   ]
  },
  {
   "cell_type": "markdown",
   "metadata": {},
   "source": [
    "> In the target customer, we noticed that all age group have purchases, and the must purchases are purchased by Middle Age customers. "
   ]
  },
  {
   "cell_type": "markdown",
   "metadata": {
    "tags": []
   },
   "source": [
    "# Location distribution By New Customers ?"
   ]
  },
  {
   "cell_type": "code",
   "execution_count": 49,
   "metadata": {},
   "outputs": [
    {
     "data": {
      "text/plain": [
       "<BarContainer object of 3 artists>"
      ]
     },
     "execution_count": 49,
     "metadata": {},
     "output_type": "execute_result"
    },
    {
     "data": {
      "image/png": "[encoded data removed]",
      "text/plain": [
       "<Figure size 1152x432 with 1 Axes>"
      ]
     },
     "metadata": {
      "needs_background": "light"
     },
     "output_type": "display_data"
    }
   ],
   "source": [
    "# Location distribution By New Customers ?\n",
    "fig = plt.subplots(1, figsize=(16, 6))\n",
    "state = NewCustomerList['state'].value_counts()\n",
    "plt.bar(state.index, state.values,color='Black')"
   ]
  },
  {
   "cell_type": "markdown",
   "metadata": {},
   "source": [
    "> In this chart, We noticed a high bikes purchases at New South Wales."
   ]
  },
  {
   "cell_type": "code",
   "execution_count": 118,
   "metadata": {},
   "outputs": [],
   "source": [
    "cols = NewCustomerList[['first_name', 'last_name','past_3_years_bike_related_purchases', 'Age', 'age_group','job_industry_category', 'wealth_segment','state','owns_car']]"
   ]
  },
  {
   "cell_type": "code",
   "execution_count": 128,
   "metadata": {},
   "outputs": [
    {
     "data": {
      "text/html": [
       "<div>\n",
       "<style scoped>\n",
       "    .dataframe tbody tr th:only-of-type {\n",
       "        vertical-align: middle;\n",
       "    }\n",
       "\n",
       "    .dataframe tbody tr th {\n",
       "        vertical-align: top;\n",
       "    }\n",
       "\n",
       "    .dataframe thead th {\n",
       "        text-align: right;\n",
       "    }\n",
       "</style>\n",
       "<table border=\"1\" class=\"dataframe\">\n",
       "  <thead>\n",
       "    <tr style=\"text-align: right;\">\n",
       "      <th></th>\n",
       "      <th>first_name</th>\n",
       "      <th>last_name</th>\n",
       "      <th>past_3_years_bike_related_purchases</th>\n",
       "      <th>Age</th>\n",
       "      <th>age_group</th>\n",
       "      <th>job_industry_category</th>\n",
       "      <th>wealth_segment</th>\n",
       "      <th>state</th>\n",
       "      <th>owns_car</th>\n",
       "    </tr>\n",
       "  </thead>\n",
       "  <tbody>\n",
       "    <tr>\n",
       "      <th>10</th>\n",
       "      <td>Rockwell</td>\n",
       "      <td>Matson</td>\n",
       "      <td>94</td>\n",
       "      <td>28</td>\n",
       "      <td>Young</td>\n",
       "      <td>Retail</td>\n",
       "      <td>High Net Worth</td>\n",
       "      <td>QLD</td>\n",
       "      <td>No</td>\n",
       "    </tr>\n",
       "    <tr>\n",
       "      <th>53</th>\n",
       "      <td>Odessa</td>\n",
       "      <td>Mc Andrew</td>\n",
       "      <td>97</td>\n",
       "      <td>41</td>\n",
       "      <td>Middle Age</td>\n",
       "      <td>Property</td>\n",
       "      <td>Mass Customer</td>\n",
       "      <td>NSW</td>\n",
       "      <td>No</td>\n",
       "    </tr>\n",
       "    <tr>\n",
       "      <th>74</th>\n",
       "      <td>Hasheem</td>\n",
       "      <td>Groucock</td>\n",
       "      <td>98</td>\n",
       "      <td>48</td>\n",
       "      <td>Middle Age</td>\n",
       "      <td>Manufacturing</td>\n",
       "      <td>High Net Worth</td>\n",
       "      <td>NSW</td>\n",
       "      <td>Yes</td>\n",
       "    </tr>\n",
       "    <tr>\n",
       "      <th>89</th>\n",
       "      <td>Ludovico</td>\n",
       "      <td>Juster</td>\n",
       "      <td>93</td>\n",
       "      <td>31</td>\n",
       "      <td>Young</td>\n",
       "      <td>Health</td>\n",
       "      <td>Affluent Customer</td>\n",
       "      <td>NSW</td>\n",
       "      <td>No</td>\n",
       "    </tr>\n",
       "    <tr>\n",
       "      <th>92</th>\n",
       "      <td>Levy</td>\n",
       "      <td>Abramamov</td>\n",
       "      <td>94</td>\n",
       "      <td>70</td>\n",
       "      <td>Old</td>\n",
       "      <td>Retail</td>\n",
       "      <td>Affluent Customer</td>\n",
       "      <td>QLD</td>\n",
       "      <td>Yes</td>\n",
       "    </tr>\n",
       "    <tr>\n",
       "      <th>94</th>\n",
       "      <td>Jehu</td>\n",
       "      <td>Prestedge</td>\n",
       "      <td>91</td>\n",
       "      <td>23</td>\n",
       "      <td>Young</td>\n",
       "      <td>Manufacturing</td>\n",
       "      <td>High Net Worth</td>\n",
       "      <td>NSW</td>\n",
       "      <td>Yes</td>\n",
       "    </tr>\n",
       "    <tr>\n",
       "      <th>107</th>\n",
       "      <td>Aridatha</td>\n",
       "      <td>Sephton</td>\n",
       "      <td>95</td>\n",
       "      <td>61</td>\n",
       "      <td>Old</td>\n",
       "      <td>Retail</td>\n",
       "      <td>Mass Customer</td>\n",
       "      <td>NSW</td>\n",
       "      <td>No</td>\n",
       "    </tr>\n",
       "    <tr>\n",
       "      <th>109</th>\n",
       "      <td>Franciska</td>\n",
       "      <td>Stigell</td>\n",
       "      <td>95</td>\n",
       "      <td>54</td>\n",
       "      <td>Middle Age</td>\n",
       "      <td>Health</td>\n",
       "      <td>Mass Customer</td>\n",
       "      <td>VIC</td>\n",
       "      <td>Yes</td>\n",
       "    </tr>\n",
       "    <tr>\n",
       "      <th>135</th>\n",
       "      <td>Malorie</td>\n",
       "      <td>Votier</td>\n",
       "      <td>90</td>\n",
       "      <td>33</td>\n",
       "      <td>Young</td>\n",
       "      <td>Manufacturing</td>\n",
       "      <td>Affluent Customer</td>\n",
       "      <td>QLD</td>\n",
       "      <td>No</td>\n",
       "    </tr>\n",
       "    <tr>\n",
       "      <th>139</th>\n",
       "      <td>My</td>\n",
       "      <td>Chaston</td>\n",
       "      <td>92</td>\n",
       "      <td>57</td>\n",
       "      <td>Middle Age</td>\n",
       "      <td>Manufacturing</td>\n",
       "      <td>Affluent Customer</td>\n",
       "      <td>VIC</td>\n",
       "      <td>Yes</td>\n",
       "    </tr>\n",
       "    <tr>\n",
       "      <th>162</th>\n",
       "      <td>Fonsie</td>\n",
       "      <td>Levane</td>\n",
       "      <td>96</td>\n",
       "      <td>72</td>\n",
       "      <td>Old</td>\n",
       "      <td>Manufacturing</td>\n",
       "      <td>High Net Worth</td>\n",
       "      <td>QLD</td>\n",
       "      <td>Yes</td>\n",
       "    </tr>\n",
       "    <tr>\n",
       "      <th>167</th>\n",
       "      <td>Regine</td>\n",
       "      <td>Bownes</td>\n",
       "      <td>99</td>\n",
       "      <td>71</td>\n",
       "      <td>Old</td>\n",
       "      <td>Retail</td>\n",
       "      <td>Affluent Customer</td>\n",
       "      <td>VIC</td>\n",
       "      <td>No</td>\n",
       "    </tr>\n",
       "    <tr>\n",
       "      <th>177</th>\n",
       "      <td>Iain</td>\n",
       "      <td>Haversham</td>\n",
       "      <td>92</td>\n",
       "      <td>72</td>\n",
       "      <td>Old</td>\n",
       "      <td>Retail</td>\n",
       "      <td>Mass Customer</td>\n",
       "      <td>NSW</td>\n",
       "      <td>Yes</td>\n",
       "    </tr>\n",
       "    <tr>\n",
       "      <th>208</th>\n",
       "      <td>Tannie</td>\n",
       "      <td>Gambrell</td>\n",
       "      <td>92</td>\n",
       "      <td>56</td>\n",
       "      <td>Middle Age</td>\n",
       "      <td>Financial Services</td>\n",
       "      <td>Affluent Customer</td>\n",
       "      <td>QLD</td>\n",
       "      <td>No</td>\n",
       "    </tr>\n",
       "    <tr>\n",
       "      <th>223</th>\n",
       "      <td>Wallace</td>\n",
       "      <td>Newart</td>\n",
       "      <td>91</td>\n",
       "      <td>45</td>\n",
       "      <td>Middle Age</td>\n",
       "      <td>IT</td>\n",
       "      <td>Mass Customer</td>\n",
       "      <td>QLD</td>\n",
       "      <td>No</td>\n",
       "    </tr>\n",
       "    <tr>\n",
       "      <th>230</th>\n",
       "      <td>Vittorio</td>\n",
       "      <td>Boxen</td>\n",
       "      <td>94</td>\n",
       "      <td>58</td>\n",
       "      <td>Middle Age</td>\n",
       "      <td>Manufacturing</td>\n",
       "      <td>Mass Customer</td>\n",
       "      <td>NSW</td>\n",
       "      <td>No</td>\n",
       "    </tr>\n",
       "    <tr>\n",
       "      <th>234</th>\n",
       "      <td>Latrena</td>\n",
       "      <td>Walklate</td>\n",
       "      <td>97</td>\n",
       "      <td>79</td>\n",
       "      <td>Old</td>\n",
       "      <td>Telecommunications</td>\n",
       "      <td>High Net Worth</td>\n",
       "      <td>NSW</td>\n",
       "      <td>Yes</td>\n",
       "    </tr>\n",
       "    <tr>\n",
       "      <th>239</th>\n",
       "      <td>Robenia</td>\n",
       "      <td>Monks</td>\n",
       "      <td>94</td>\n",
       "      <td>64</td>\n",
       "      <td>Old</td>\n",
       "      <td>Manufacturing</td>\n",
       "      <td>Mass Customer</td>\n",
       "      <td>QLD</td>\n",
       "      <td>No</td>\n",
       "    </tr>\n",
       "    <tr>\n",
       "      <th>248</th>\n",
       "      <td>Sunny</td>\n",
       "      <td>Christescu</td>\n",
       "      <td>90</td>\n",
       "      <td>48</td>\n",
       "      <td>Middle Age</td>\n",
       "      <td>Financial Services</td>\n",
       "      <td>Mass Customer</td>\n",
       "      <td>NSW</td>\n",
       "      <td>No</td>\n",
       "    </tr>\n",
       "    <tr>\n",
       "      <th>251</th>\n",
       "      <td>Celeste</td>\n",
       "      <td>Fretson</td>\n",
       "      <td>91</td>\n",
       "      <td>42</td>\n",
       "      <td>Middle Age</td>\n",
       "      <td>IT</td>\n",
       "      <td>Mass Customer</td>\n",
       "      <td>NSW</td>\n",
       "      <td>No</td>\n",
       "    </tr>\n",
       "  </tbody>\n",
       "</table>\n",
       "</div>"
      ],
      "text/plain": [
       "    first_name   last_name  past_3_years_bike_related_purchases  Age   \n",
       "10    Rockwell      Matson                                   94   28  \\\n",
       "53      Odessa   Mc Andrew                                   97   41   \n",
       "74     Hasheem    Groucock                                   98   48   \n",
       "89    Ludovico      Juster                                   93   31   \n",
       "92        Levy   Abramamov                                   94   70   \n",
       "94        Jehu   Prestedge                                   91   23   \n",
       "107   Aridatha     Sephton                                   95   61   \n",
       "109  Franciska     Stigell                                   95   54   \n",
       "135    Malorie      Votier                                   90   33   \n",
       "139         My     Chaston                                   92   57   \n",
       "162     Fonsie      Levane                                   96   72   \n",
       "167     Regine      Bownes                                   99   71   \n",
       "177       Iain   Haversham                                   92   72   \n",
       "208     Tannie    Gambrell                                   92   56   \n",
       "223    Wallace      Newart                                   91   45   \n",
       "230   Vittorio       Boxen                                   94   58   \n",
       "234    Latrena    Walklate                                   97   79   \n",
       "239    Robenia       Monks                                   94   64   \n",
       "248      Sunny  Christescu                                   90   48   \n",
       "251    Celeste     Fretson                                   91   42   \n",
       "\n",
       "      age_group job_industry_category     wealth_segment state owns_car  \n",
       "10        Young                Retail     High Net Worth   QLD       No  \n",
       "53   Middle Age              Property      Mass Customer   NSW       No  \n",
       "74   Middle Age         Manufacturing     High Net Worth   NSW      Yes  \n",
       "89        Young                Health  Affluent Customer   NSW       No  \n",
       "92          Old                Retail  Affluent Customer   QLD      Yes  \n",
       "94        Young         Manufacturing     High Net Worth   NSW      Yes  \n",
       "107         Old                Retail      Mass Customer   NSW       No  \n",
       "109  Middle Age                Health      Mass Customer   VIC      Yes  \n",
       "135       Young         Manufacturing  Affluent Customer   QLD       No  \n",
       "139  Middle Age         Manufacturing  Affluent Customer   VIC      Yes  \n",
       "162         Old         Manufacturing     High Net Worth   QLD      Yes  \n",
       "167         Old                Retail  Affluent Customer   VIC       No  \n",
       "177         Old                Retail      Mass Customer   NSW      Yes  \n",
       "208  Middle Age    Financial Services  Affluent Customer   QLD       No  \n",
       "223  Middle Age                    IT      Mass Customer   QLD       No  \n",
       "230  Middle Age         Manufacturing      Mass Customer   NSW       No  \n",
       "234         Old    Telecommunications     High Net Worth   NSW      Yes  \n",
       "239         Old         Manufacturing      Mass Customer   QLD       No  \n",
       "248  Middle Age    Financial Services      Mass Customer   NSW       No  \n",
       "251  Middle Age                    IT      Mass Customer   NSW       No  "
      ]
     },
     "execution_count": 128,
     "metadata": {},
     "output_type": "execute_result"
    }
   ],
   "source": [
    "Interpretation = cols.loc[(cols.past_3_years_bike_related_purchases >= 90 )]\n",
    "Interpretation.head(20)"
   ]
  },
  {
   "cell_type": "code",
   "execution_count": 95,
   "metadata": {},
   "outputs": [
    {
     "data": {
      "text/plain": [
       "Index(['Id', 'first_name', 'last_name', 'gender',\n",
       "       'past_3_years_bike_related_purchases', 'DOB', 'Age', 'age_group',\n",
       "       'job_title', 'job_industry_category', 'wealth_segment',\n",
       "       'deceased_indicator', 'owns_car', 'tenure', 'address', 'postcode',\n",
       "       'state', 'country', 'property_valuation', 'Rank', 'Value'],\n",
       "      dtype='object')"
      ]
     },
     "execution_count": 95,
     "metadata": {},
     "output_type": "execute_result"
    }
   ],
   "source": [
    "NewCustomerList.columns"
   ]
  },
  {
   "cell_type": "code",
   "execution_count": null,
   "metadata": {},
   "outputs": [],
   "source": []
  }
 ],
 "metadata": {
  "kernelspec": {
   "display_name": "Python 3 (ipykernel)",
   "language": "python",
   "name": "python3"
  },
  "language_info": {
   "codemirror_mode": {
    "name": "ipython",
    "version": 3
   },
   "file_extension": ".py",
   "mimetype": "text/x-python",
   "name": "python",
   "nbconvert_exporter": "python",
   "pygments_lexer": "ipython3",
   "version": "3.8.16"
  }
 },
 "nbformat": 4,
 "nbformat_minor": 4
}
